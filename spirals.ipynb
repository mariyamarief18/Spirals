{
 "cells": [
  {
   "cell_type": "code",
   "execution_count": 1,
   "metadata": {},
   "outputs": [],
   "source": [
    "#import the turtle library \n",
    "import turtle \n",
    "\n",
    "#load the project window \n",
    "loadWindow = turtle.Screen() \n",
    "\n",
    "#set the speed of the turtle \n",
    "turtle.speed(200) \n",
    "\n",
    "#define an array that holds the different colours \n",
    "colours = ['red', 'purple', 'blue', 'green', 'orange', 'yellow', 'pink', 'aqua'] \n",
    "\n",
    "#set the initial position \n",
    "turtle.goto(0,0) \n",
    "\n",
    "#draws the initial spiral out of circles \n",
    "for i in range(30): \n",
    "   turtle.pencolor(colours[i%8]) \n",
    "   turtle.circle(2*i) \n",
    "   turtle.circle(-2*i) \n",
    "   turtle.left(i*4) \n",
    "\n",
    "#go to a different location to draw our second spiral of squares\n",
    "turtle.penup() \n",
    "turtle.goto(100, 100) \n",
    "turtle.pendown() \n",
    " \n",
    "#draws the second spiral with squares \n",
    "for i in range(30): \n",
    "   turtle.pencolor(colours[i%8]) \n",
    "   turtle.fd(2*i) \n",
    "   turtle.rt(90) \n",
    "   turtle.fd(2*i) \n",
    "   turtle.rt(90) \n",
    "   turtle.fd(2*i) \n",
    "   turtle.rt(90) \n",
    "   turtle.fd(2*i) \n",
    "   turtle.rt(i)"
   ]
  }
 ],
 "metadata": {
  "kernelspec": {
   "display_name": "Python 3.9.13 64-bit",
   "language": "python",
   "name": "python3"
  },
  "language_info": {
   "codemirror_mode": {
    "name": "ipython",
    "version": 3
   },
   "file_extension": ".py",
   "mimetype": "text/x-python",
   "name": "python",
   "nbconvert_exporter": "python",
   "pygments_lexer": "ipython3",
   "version": "3.9.13"
  },
  "orig_nbformat": 4,
  "vscode": {
   "interpreter": {
    "hash": "048eeadc6b4254ad9fbc5533348708a1ee565dcee934511a68bf957b8d6d04e0"
   }
  }
 },
 "nbformat": 4,
 "nbformat_minor": 2
}
